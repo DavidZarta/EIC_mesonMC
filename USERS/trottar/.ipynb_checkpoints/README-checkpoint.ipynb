{
 "cells": [
  {
   "cell_type": "markdown",
   "metadata": {},
   "source": [
    "What you need:\n",
    "====================================\n",
    "ROOT 5.34/35+\n",
    "gcc compiler (general)\n",
    "\n",
    "\n",
    "Source codes:\n",
    "====================================\n",
    "Located in src directory...\n",
    "\n",
    "**TDISMC_EIC.cpp**  :  pion structure function with ep scattering at JLEIC\n",
    "**TDISMC_EICn.cpp** :  pion structure function with eD scattering at JLEIC\n",
    "**TDISMC_EICK.cpp** :  kaon structure function with ep scattering at JLEIC\n",
    "**cteq/**           :  cteqpdf.h and data based call files (c++ wrapper)\n",
    "**cteq-tbls/**      :  nucleon PDFs table\n",
    "**tim_hobbs/**      :  various regularization form for pion FF \n",
    "\n",
    "\n",
    "How to change inputs:\n",
    "====================================\n",
    "Located in inputs directory...\n",
    "\n",
    "kinematics.inputs : edit this document to change simulation kinematics (e.g. number of events, x range, Q2 range, pbeam, kbeam)\n",
    "\n"
   ]
  },
  {
   "cell_type": "code",
   "execution_count": null,
   "metadata": {},
   "outputs": [],
   "source": []
  },
  {
   "cell_type": "markdown",
   "metadata": {},
   "source": [
    "How to run:\n",
    "====================================\n",
    "./run_batch.sh <final state> : pi/p, pi/n, k/lambda"
   ]
  },
  {
   "cell_type": "code",
   "execution_count": 3,
   "metadata": {},
   "outputs": [
    {
     "name": "stdout",
     "output_type": "stream",
     "text": [
      "\n",
      "Pion with neutron final state selected\n",
      "\n",
      "Warning in <TTree::Bronch>: TLorentzVector cannot be split, resetting splitlevel to 0\n",
      "Warning in <TTree::Bronch>: TLorentzVector cannot be split, resetting splitlevel to 0\n",
      "Warning in <TTree::Bronch>: TLorentzVector cannot be split, resetting splitlevel to 0\n",
      "Warning in <TTree::Bronch>: TLorentzVector cannot be split, resetting splitlevel to 0\n",
      "Warning in <TTree::Bronch>: TLorentzVector cannot be split, resetting splitlevel to 0\n",
      "Warning in <TTree::Bronch>: TLorentzVector cannot be split, resetting splitlevel to 0\n",
      "Your kinematics: [xBj_min:xBj_max] = [ 0.001000: 1.000000] \n",
      "Your kinematics: [Q2_min:Q2_max] = [ 1.000000:1100.000000] \n",
      "Incident Ion Mass   0.93827 GeV \n",
      "Incident Electron, Ion Momenta:  10.0000,   135.00 GeV/c | s_0 =  5400.1019 GeV^2 \n",
      "Warning in <TTree::Bronch>: TLorentzVector cannot be split, resetting splitlevel to 0\n",
      "Warning in <TTree::Bronch>: TLorentzVector cannot be split, resetting splitlevel to 0\n",
      "Total of 57720 events out of 500000 Trials ============================] 100 %\n",
      "(int) 57720\n"
     ]
    }
   ],
   "source": [
    "!./run_mesonMC.sh pi/n"
   ]
  },
  {
   "cell_type": "markdown",
   "metadata": {},
   "source": [
    "Plotting:\n",
    "====================================\n",
    "The plots spit out as rootfiles. I convert these root files to numpy arrays since I prefer python.\n",
    "\n",
    "\n",
    "Running GEANT4\n",
    "====================================\n",
    "./run_g4e.sh : Will run the python script for the GEANT4 simulation from the TDIS_lund.dat file\n",
    "g4e_files/   : This is the location of the\n",
    "eic_g4e.py   : This python script will run GEANT4 simulation for the lund file specified for\n",
    "               detector='jleic' and beamline='erhic'\n",
    "\n",
    "This code is maintained by Richard Trotta (trotta@cua.edu)."
   ]
  },
  {
   "cell_type": "code",
   "execution_count": null,
   "metadata": {},
   "outputs": [],
   "source": []
  }
 ],
 "metadata": {
  "kernelspec": {
   "display_name": "Python 3",
   "language": "python",
   "name": "python3"
  },
  "language_info": {
   "codemirror_mode": {
    "name": "ipython",
    "version": 3
   },
   "file_extension": ".py",
   "mimetype": "text/x-python",
   "name": "python",
   "nbconvert_exporter": "python",
   "pygments_lexer": "ipython3",
   "version": "3.6.9"
  }
 },
 "nbformat": 4,
 "nbformat_minor": 4
}
