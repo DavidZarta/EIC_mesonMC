{
 "cells": [
  {
   "cell_type": "markdown",
   "metadata": {},
   "source": [
    "**[Meson working group kinematic coverage](http://www.vsl.cua.edu/cua_phy/index.php/EIC_Meson_Structure_Working_Group)**\n",
    "===\n",
    "\n",
    "Generator used: [EIC_mesonMC](https://github.com/JeffersonLab/EIC_mesonMC) with a luminosity of 10 $fb^{-1}$ <br> \n",
    "Generator output ROOT and lund files: EIC_mesonMC/eic_SF/OUTPUTS <br> \n",
    "More information on running the generator can be found in the [README](../README.ipynb)"
   ]
  },
  {
   "cell_type": "markdown",
   "metadata": {},
   "source": [
    "**Meson Structure Functions – Scattered Electron**\n",
    "\n",
    "Scattered electrons can be detected in the central detector <br>\n",
    "![](plots/scat_e.png)"
   ]
  },
  {
   "cell_type": "markdown",
   "metadata": {},
   "source": [
    "**Meson Structure Functions – Scattered Meson**\n",
    "\n",
    "![](plots/scat_m.png)"
   ]
  },
  {
   "cell_type": "markdown",
   "metadata": {},
   "source": [
    "**Meson Structure Functions – Scattered Baryon**\n",
    "\n",
    "Baryon (neutron, lambda) at very small forward angles and nearly the beam momentum <br>\n",
    "![](plots/scat_b.png)\n",
    "\n",
    "A zoomed version <br>\n",
    "![](plots/scat_b_zoom.png)"
   ]
  },
  {
   "cell_type": "markdown",
   "metadata": {},
   "source": [
    "**Script to generate plots**\n",
    "==\n",
    "\n",
    "Import packages required for reading in root files and plotting them"
   ]
  },
  {
   "cell_type": "code",
   "execution_count": 1,
   "metadata": {},
   "outputs": [
    {
     "name": "stdout",
     "output_type": "stream",
     "text": [
      "Welcome to JupyROOT 6.20/00\n"
     ]
    }
   ],
   "source": [
    "%matplotlib inline\n",
    "import matplotlib as mpl\n",
    "import matplotlib.pyplot as plt\n",
    "from matplotlib import interactive\n",
    "from matplotlib import colors\n",
    "from ROOT import TFile\n",
    "import scipy as sc\n",
    "from scipy import stats\n",
    "import uproot as up\n",
    "import numpy as np\n",
    "import math"
   ]
  },
  {
   "cell_type": "markdown",
   "metadata": {},
   "source": [
    "Grab the root file of interest to plot. The kinematics is all that needs to be specified."
   ]
  },
  {
   "cell_type": "code",
   "execution_count": 3,
   "metadata": {},
   "outputs": [],
   "source": [
    "kinematics = \"pi_n_18on275\"\n",
    "# kinematics = \"pi_n_10on100\"\n",
    "# kinematics = \"pi_n_5on100\"\n",
    "# kinematics = \"pi_n_5on41\"\n",
    "# kinematics = \"k_lambda_18on275\"\n",
    "rootName = '../OUTPUTS/%s.root' % kinematics\n",
    "tree = up.open(rootName)[\"Evnts\"]\n",
    "\n",
    "myfile = TFile(rootName)\n",
    "mytree = myfile.Get(\"Evnts\")"
   ]
  },
  {
   "cell_type": "markdown",
   "metadata": {},
   "source": [
    "Defines arrays and grabs leaf variables from root file."
   ]
  },
  {
   "cell_type": "code",
   "execution_count": 4,
   "metadata": {},
   "outputs": [],
   "source": [
    "scat_electron_theta = []\n",
    "pion_theta = []\n",
    "neutron_theta = []\n",
    "\n",
    "scat_electron_mom = []\n",
    "pion_mom = []\n",
    "neutron_mom = []\n",
    "photon_mom = []\n",
    "\n",
    "EeE_Lab = tree.array(\"EeE_Lab\")\n",
    "\n",
    "if \"pi\" in kinematics:\n",
    "    xpi = tree.array(\"xpi\")\n",
    "    EnE_Lab = tree.array(\"EnE_Lab\")\n",
    "    EpiE_Lab = tree.array(\"EpiE_Lab\")\n",
    "    ppiz_Lab = tree.array(\"ppiz_Lab\")\n",
    "if \"k\" in kinematics:\n",
    "    xpi = tree.array(\"xk\")\n",
    "    EnE_Lab = tree.array(\"ElambE_Lab\")\n",
    "    EpiE_Lab = tree.array(\"EkE_Lab\")\n",
    "    ppiz_Lab = tree.array(\"pkz_Lab\")"
   ]
  },
  {
   "cell_type": "markdown",
   "metadata": {},
   "source": [
    "A loop that fills arrays with values from particle trees."
   ]
  },
  {
   "cell_type": "code",
   "execution_count": 5,
   "metadata": {},
   "outputs": [
    {
     "name": "stdout",
     "output_type": "stream",
     "text": [
      "All events collected\n"
     ]
    }
   ],
   "source": [
    "for entryNum in range(0,mytree.GetEntries()):\n",
    "    mytree.GetEntry(entryNum)\n",
    "    scat_electron = getattr(mytree ,\"e_Scat.\")\n",
    "    if \"pi\" in kinematics:\n",
    "        pion = getattr(mytree ,\"pi.\")\n",
    "    if \"k\" in kinematics:\n",
    "        pion = getattr(mytree ,\"k.\")\n",
    "    neutron = getattr(mytree ,\"p1_Sp.\")\n",
    "    if ppiz_Lab[entryNum] == pion.Z():\n",
    "        \n",
    "        pion_theta.append(pion.Theta()*(180/math.pi))\n",
    "        pion_mom.append(EpiE_Lab[entryNum])\n",
    "        # pion_mom.append(pion.E())\n",
    "    \n",
    "        neutron_theta.append(neutron.Theta()*(180/math.pi))\n",
    "        neutron_mom.append(EnE_Lab[entryNum])\n",
    "        # neutron_mom.append(neutron.E())\n",
    "    \n",
    "        scat_electron_theta.append(scat_electron.Theta()*(180/math.pi))\n",
    "        scat_electron_mom.append(EeE_Lab[entryNum])\n",
    "        # scat_electron_mom.append(scat_electron.E())\n",
    "        \n",
    "print(\"All events collected\")"
   ]
  },
  {
   "cell_type": "markdown",
   "metadata": {},
   "source": [
    "Function for polar plot creation."
   ]
  },
  {
   "cell_type": "code",
   "execution_count": 6,
   "metadata": {},
   "outputs": [],
   "source": [
    "def polarPlot(theta,r,title,thetalabel,rlabel,thetamin=None,thetamax=None,figure=None,ax=None):\n",
    "    theta = np.radians(theta)\n",
    "    xy = np.vstack([theta, r])\n",
    "    z = sc.stats.gaussian_kde(xy)(xy)\n",
    "    idx = z.argsort()\n",
    "    x, y, z = np.array(theta)[idx], np.array(r)[idx], z[idx]\n",
    "    if ax or figure:\n",
    "        print(\"\")\n",
    "    else:\n",
    "        fig = plt.figure(figsize=(11.69,8.27))\n",
    "        ax = plt.subplot(111, polar=True)\n",
    "    hist = ax.scatter(theta, r, c=theta, alpha = 0.75)\n",
    "    ax.grid(True)\n",
    "    if thetamin:\n",
    "        ax.set_thetamin(thetamin)\n",
    "    if thetamax:\n",
    "        ax.set_thetamax(thetamax)\n",
    "    plt.title(title)\n",
    "    plt.xlabel(thetalabel)\n",
    "    plt.ylabel(rlabel)\n",
    "\n",
    "    return fig"
   ]
  },
  {
   "cell_type": "markdown",
   "metadata": {},
   "source": [
    "Produces the polar plots and outputs them to png files. This may take a little while (especially in Jupyter)."
   ]
  },
  {
   "cell_type": "code",
   "execution_count": null,
   "metadata": {},
   "outputs": [],
   "source": [
    "f = plt.figure(figsize=(11.69,8.27))\n",
    "plt.style.use('default')\n",
    "\n",
    "polar = polarPlot(pion_theta,pion_mom, 'P vs pi $\\Theta$','$\\Theta$','P')\n",
    "polar.savefig('pipolar.png')\n",
    "    \n",
    "polar = polarPlot(scat_electron_theta,scat_electron_mom, 'P vs scat e $\\Theta$','$\\Theta$','P')\n",
    "polar.savefig('epolar.png')\n",
    "        \n",
    "polar = polarPlot(neutron_theta,neutron_mom, 'P vs n $\\Theta$','$\\Theta$','P',0.0,5.0)\n",
    "polar.savefig('npolar.png')"
   ]
  }
 ],
 "metadata": {
  "kernelspec": {
   "display_name": "Python 3",
   "language": "python",
   "name": "python3"
  },
  "language_info": {
   "codemirror_mode": {
    "name": "ipython",
    "version": 3
   },
   "file_extension": ".py",
   "mimetype": "text/x-python",
   "name": "python",
   "nbconvert_exporter": "python",
   "pygments_lexer": "ipython3",
   "version": "3.6.9"
  }
 },
 "nbformat": 4,
 "nbformat_minor": 4
}
